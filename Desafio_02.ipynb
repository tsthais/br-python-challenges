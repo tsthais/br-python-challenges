{
  "cells": [
    {
      "cell_type": "markdown",
      "metadata": {
        "id": "view-in-github",
        "colab_type": "text"
      },
      "source": [
        "<a href=\"https://colab.research.google.com/github/tsthais/br-python-challenges/blob/master/Desafio_02.ipynb\" target=\"_parent\"><img src=\"https://colab.research.google.com/assets/colab-badge.svg\" alt=\"Open In Colab\"/></a>"
      ]
    },
    {
      "cell_type": "markdown",
      "metadata": {
        "id": "Se66OAU0RJK3"
      },
      "source": [
        "![](https://i.imgur.com/YX6UATs.png)"
      ]
    },
    {
      "cell_type": "markdown",
      "metadata": {
        "id": "q1NCks7Af6JN"
      },
      "source": [
        "### Desafio 2\n",
        "\n",
        "Escreva uma função que receba um número inteiro de horas e converta esse número para segundos.\n",
        "\n",
        "Exemplo:\n",
        "\n",
        "convert(5) ➞ 18000\n",
        "\n",
        "convert(3) ➞ 10800\n",
        "\n",
        "convert(2) ➞ 7200"
      ]
    },
    {
      "cell_type": "code",
      "execution_count": 3,
      "metadata": {
        "id": "sSm6F7sff6JO"
      },
      "outputs": [],
      "source": [
        "def convert_to_sec(number):\n",
        "    return number*3600"
      ]
    },
    {
      "cell_type": "code",
      "source": [
        "convert_to_sec(5)\n",
        "convert_to_sec(3)\n",
        "convert_to_sec(2)"
      ],
      "metadata": {
        "id": "368lgjtxRpE_",
        "outputId": "93ab1efd-106e-4114-ba5e-4b24e7b712d6",
        "colab": {
          "base_uri": "https://localhost:8080/"
        }
      },
      "execution_count": 6,
      "outputs": [
        {
          "output_type": "execute_result",
          "data": {
            "text/plain": [
              "7200"
            ]
          },
          "metadata": {},
          "execution_count": 6
        }
      ]
    }
  ],
  "metadata": {
    "anaconda-cloud": {},
    "colab": {
      "name": "Desafio 2.ipynb",
      "provenance": [],
      "include_colab_link": true
    },
    "kernelspec": {
      "display_name": "Python 3",
      "language": "python",
      "name": "python3"
    },
    "language_info": {
      "codemirror_mode": {
        "name": "ipython",
        "version": 3
      },
      "file_extension": ".py",
      "mimetype": "text/x-python",
      "name": "python",
      "nbconvert_exporter": "python",
      "pygments_lexer": "ipython3",
      "version": "3.7.9"
    }
  },
  "nbformat": 4,
  "nbformat_minor": 0
}