{
  "cells": [
    {
      "cell_type": "markdown",
      "metadata": {
        "id": "view-in-github",
        "colab_type": "text"
      },
      "source": [
        "<a href=\"https://colab.research.google.com/github/tsthais/br-python-challenges/blob/master/Desafio_08.ipynb\" target=\"_parent\"><img src=\"https://colab.research.google.com/assets/colab-badge.svg\" alt=\"Open In Colab\"/></a>"
      ]
    },
    {
      "cell_type": "markdown",
      "metadata": {
        "id": "o3tkeMDNf6Jo"
      },
      "source": [
        "### Desafio 8\n",
        "\n",
        "Escreva um script Python para encontrar as 10 palavras mais longas em um arquivo de texto.\n",
        "O arquivo .txt está localizado na mesma pasta do projeto (**texto.txt**)."
      ]
    },
    {
      "cell_type": "code",
      "execution_count": 1,
      "metadata": {
        "id": "EknxjSG0f6Jo"
      },
      "outputs": [],
      "source": [
        "# Seu código\n",
        "import requests\n",
        "from heapq import nlargest"
      ]
    },
    {
      "cell_type": "code",
      "execution_count": 2,
      "metadata": {
        "id": "ZYbqEWBG5nKx"
      },
      "outputs": [],
      "source": [
        "# Iportando o arquivo\n",
        "txt = \"https://raw.githubusercontent.com/tsthais/br-python-challenges/master/texto.txt\"\n",
        "dado = requests.get(txt)\n",
        "dado = dado.text"
      ]
    },
    {
      "cell_type": "code",
      "source": [
        "# Retirando pontuação do texto\n",
        "characters = \".,?\\r\\n()\"\n",
        "\n",
        "for character in characters:\n",
        "\tdado = dado.replace(character,' ')\n",
        "\n",
        "print(dado)"
      ],
      "metadata": {
        "colab": {
          "base_uri": "https://localhost:8080/"
        },
        "id": "ryN59QDGH4LX",
        "outputId": "0e515b68-00fd-4f52-be4c-e287b82a18dd"
      },
      "execution_count": 3,
      "outputs": [
        {
          "output_type": "stream",
          "name": "stdout",
          "text": [
            "What is Python language                                                   Python is a widely used high-level  general-purpose  interpreted  dynamic programming language Its design philosophy emphasizes code readability  and its syntax allows programmers to express concepts in fewer lines of code than possible in   languages such as C++ or Java    Python supports multiple programming paradigms  including object-oriented  imperative and functional programming or procedural styles It features a dynamic type system and automatic memory management and has a large and comprehensive standard library The best way we learn anything is by practice and exercise questions  We  have started this section for those  beginner to intermediate  who are familiar with Python \n"
          ]
        }
      ]
    },
    {
      "cell_type": "code",
      "source": [
        "# Separando o texto em lista\n",
        "lista_texto = dado.split(' ')"
      ],
      "metadata": {
        "id": "Q5pNvA6uHVmc"
      },
      "execution_count": 4,
      "outputs": []
    },
    {
      "cell_type": "code",
      "source": [
        "# Tamanho das palavras\n",
        "\n",
        "tamanho = []\n",
        "\n",
        "for i in lista_texto:\n",
        "  tamanho.append(len(i))\n"
      ],
      "metadata": {
        "id": "WwF-3XVzHgWK"
      },
      "execution_count": 5,
      "outputs": []
    },
    {
      "cell_type": "code",
      "source": [
        "# Criando um dicionario com a palavra e tamanho\n",
        "dicionario = {}\n",
        "\n",
        "for key in lista_texto:\n",
        "  for value in tamanho:\n",
        "    dicionario[key] = value\n",
        "    tamanho.remove(value)\n",
        "    break"
      ],
      "metadata": {
        "id": "TXTN9TzjMHn9"
      },
      "execution_count": 6,
      "outputs": []
    },
    {
      "cell_type": "code",
      "source": [
        "# Selecionando as maiores palavras \n",
        "palavras = nlargest(10, dicionario, key = dicionario.get)"
      ],
      "metadata": {
        "id": "vyU8y7siUD9I"
      },
      "execution_count": 7,
      "outputs": []
    },
    {
      "cell_type": "code",
      "source": [
        " print(f\"As 10 palavras mais longas são: {palavras}\")"
      ],
      "metadata": {
        "colab": {
          "base_uri": "https://localhost:8080/"
        },
        "id": "xMo4fsv1VS7W",
        "outputId": "d28c4be1-cf13-4288-8893-513d60479489"
      },
      "execution_count": 8,
      "outputs": [
        {
          "output_type": "stream",
          "name": "stdout",
          "text": [
            "As 10 palavras mais longas são: ['general-purpose', 'object-oriented', 'comprehensive', 'intermediate', 'interpreted', 'programming', 'readability', 'programmers', 'high-level', 'philosophy']\n"
          ]
        }
      ]
    }
  ],
  "metadata": {
    "anaconda-cloud": {},
    "colab": {
      "name": "Desafio 8.ipynb",
      "provenance": [],
      "include_colab_link": true
    },
    "kernelspec": {
      "display_name": "Python 3",
      "language": "python",
      "name": "python3"
    },
    "language_info": {
      "codemirror_mode": {
        "name": "ipython",
        "version": 3
      },
      "file_extension": ".py",
      "mimetype": "text/x-python",
      "name": "python",
      "nbconvert_exporter": "python",
      "pygments_lexer": "ipython3",
      "version": "3.7.9"
    }
  },
  "nbformat": 4,
  "nbformat_minor": 0
}