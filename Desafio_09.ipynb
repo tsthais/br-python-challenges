{
  "cells": [
    {
      "cell_type": "markdown",
      "metadata": {
        "id": "view-in-github",
        "colab_type": "text"
      },
      "source": [
        "<a href=\"https://colab.research.google.com/github/tsthais/br-python-challenges/blob/master/Desafio_09.ipynb\" target=\"_parent\"><img src=\"https://colab.research.google.com/assets/colab-badge.svg\" alt=\"Open In Colab\"/></a>"
      ]
    },
    {
      "cell_type": "markdown",
      "metadata": {
        "id": "HpvTpUBGf6Jr"
      },
      "source": [
        "### Desafio 9\n",
        "\n",
        "Escreva uma função que retorne a soma dos múltiplos de 3 e 5 entre 0 e um número limite, que vai ser utilizado como parâmetro. \\\n",
        "Por exemplo, se o limite for 20, ele retornará a soma de 3, 5, 6, 9, 10, 12, 15, 18, 20."
      ]
    },
    {
      "cell_type": "code",
      "execution_count": 1,
      "metadata": {
        "id": "195C6bw-f6Js"
      },
      "outputs": [],
      "source": [
        "def soma(n2):\n",
        "  numeros = []\n",
        "  for i in range(0, n2+1):\n",
        "    if i % 3 == 0 and i % 5 == 0:\n",
        "      numeros.append(i)\n",
        "    elif i% 3 == 0:\n",
        "      numeros.append(i)\n",
        "    elif i% 5 == 0:\n",
        "      numeros.append(i)\n",
        "  soma = sum(numeros)\n",
        "  return(print(f\"A soma de multiplos de 3 e 5 no intervalo entre 0 e {n2} é igual a {soma}.\"))"
      ]
    },
    {
      "cell_type": "code",
      "execution_count": 2,
      "metadata": {
        "colab": {
          "base_uri": "https://localhost:8080/"
        },
        "id": "a_6aqcKp6wrN",
        "outputId": "5f4b1026-59c7-4b26-e8c3-159a8b5af17a"
      },
      "outputs": [
        {
          "name": "stdout",
          "output_type": "stream",
          "text": [
            "Defina um número limite: 300\n"
          ]
        }
      ],
      "source": [
        "n2 = int(input(\"Defina um número limite: \"))"
      ]
    },
    {
      "cell_type": "code",
      "source": [
        "soma(n2)"
      ],
      "metadata": {
        "id": "6UmA5aPiYb9K",
        "outputId": "5f98d8ed-a1eb-490f-e2f2-ddaeb27b862e",
        "colab": {
          "base_uri": "https://localhost:8080/"
        }
      },
      "execution_count": 4,
      "outputs": [
        {
          "output_type": "stream",
          "name": "stdout",
          "text": [
            "A soma de multiplos de 3 e 5 no intervalo entre 0 e 300 é igual a 21150.\n"
          ]
        }
      ]
    }
  ],
  "metadata": {
    "anaconda-cloud": {},
    "colab": {
      "name": "Desafio 9.ipynb",
      "provenance": [],
      "include_colab_link": true
    },
    "kernelspec": {
      "display_name": "Python 3",
      "language": "python",
      "name": "python3"
    },
    "language_info": {
      "codemirror_mode": {
        "name": "ipython",
        "version": 3
      },
      "file_extension": ".py",
      "mimetype": "text/x-python",
      "name": "python",
      "nbconvert_exporter": "python",
      "pygments_lexer": "ipython3",
      "version": "3.7.9"
    }
  },
  "nbformat": 4,
  "nbformat_minor": 0
}